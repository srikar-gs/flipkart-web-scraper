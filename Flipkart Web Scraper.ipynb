{
 "cells": [
  {
   "cell_type": "markdown",
   "id": "0ccbd2d6",
   "metadata": {},
   "source": [
    "# Importing all the necessary libraries"
   ]
  },
  {
   "cell_type": "code",
   "execution_count": null,
   "id": "7652f098",
   "metadata": {},
   "outputs": [],
   "source": [
    "import requests\n",
    "from selenium import webdriver\n",
    "import pandas as pd\n",
    "from time import sleep\n",
    "from bs4 import BeautifulSoup"
   ]
  },
  {
   "cell_type": "markdown",
   "id": "1b396b34",
   "metadata": {},
   "source": [
    "### Headers for request and response"
   ]
  },
  {
   "cell_type": "code",
   "execution_count": null,
   "id": "a2cc91a5",
   "metadata": {},
   "outputs": [],
   "source": [
    "headers = {'User-Agent': 'Mozilla/5.0 (Windows NT 10.0; Win64; x64; rv:106.0) Gecko/20100101 Firefox/106.0'}"
   ]
  },
  {
   "cell_type": "markdown",
   "id": "e44d111d",
   "metadata": {},
   "source": [
    "### Access the browser "
   ]
  },
  {
   "cell_type": "code",
   "execution_count": null,
   "id": "08275b38",
   "metadata": {
    "scrolled": true
   },
   "outputs": [],
   "source": [
    "# Set the path\n",
    "path = 'C://chromedriver.exe'\n",
    "# Setup the browser\n",
    "browser = webdriver.Chrome(executable_path=path)"
   ]
  },
  {
   "cell_type": "markdown",
   "id": "969232ca",
   "metadata": {},
   "source": [
    "### Load the Flipkart webpage \n",
    "#### According to the search query"
   ]
  },
  {
   "cell_type": "code",
   "execution_count": null,
   "id": "c92f54d7",
   "metadata": {},
   "outputs": [],
   "source": [
    "# load the webpage\n",
    "search_query = 'laptops'.replace(' ','+')\n",
    "base_url = 'https://www.flipkart.com/search?q={0}'.format(search_query)\n",
    "browser.get(base_url)"
   ]
  },
  {
   "cell_type": "markdown",
   "id": "6f26db2f",
   "metadata": {},
   "source": [
    "## Scrape the data"
   ]
  },
  {
   "cell_type": "code",
   "execution_count": null,
   "id": "7998bd67",
   "metadata": {},
   "outputs": [],
   "source": [
    "# Empty lists to store the scraped data\n",
    "\n",
    "product_names=[]\n",
    "price = []\n",
    "rating = []\n",
    "\n",
    "# Scraping code\n",
    "\n",
    "for i in range(1,11):\n",
    "    print('Processing {0}'.format(base_url + '&page={0}'.format(i)))\n",
    "    \n",
    "    response = requests.get(base_url + '&page={0}'.format(i), headers=headers)\n",
    "    soup = BeautifulSoup(response.content, 'html.parser')\n",
    "    \n",
    "    product = soup.find_all('div', {'class':\"_4rR01T\"})\n",
    "    cost = soup.find_all('div', {'class': '_30jeq3 _1_WHN1'})\n",
    "    rting = soup.find_all('div', {'class': '_3LWZlK'})\n",
    "    \n",
    "    sleep(1)\n",
    "    \n",
    "    # Appending the scraped data to the lists and storing them\n",
    "    \n",
    "    for i in product:\n",
    "        product_names.append(i.text)\n",
    "        \n",
    "    for i in cost:\n",
    "        price.append((i.text)[1:])\n",
    "        \n",
    "    for i in rting:\n",
    "        rating.append(i.text)"
   ]
  },
  {
   "cell_type": "markdown",
   "id": "c60befdd",
   "metadata": {},
   "source": [
    "### Display all the product names"
   ]
  },
  {
   "cell_type": "code",
   "execution_count": null,
   "id": "6227864b",
   "metadata": {},
   "outputs": [],
   "source": [
    "for i in product_names:\n",
    "    print(i)"
   ]
  },
  {
   "cell_type": "markdown",
   "id": "02ca22cf",
   "metadata": {},
   "source": [
    "### Display the price of each product"
   ]
  },
  {
   "cell_type": "code",
   "execution_count": null,
   "id": "55282c24",
   "metadata": {},
   "outputs": [],
   "source": [
    "for i in price:\n",
    "    print(i)"
   ]
  },
  {
   "cell_type": "markdown",
   "id": "6e3237a3",
   "metadata": {},
   "source": [
    "### Display the rating of each product"
   ]
  },
  {
   "cell_type": "code",
   "execution_count": null,
   "id": "107f0457",
   "metadata": {
    "scrolled": true
   },
   "outputs": [],
   "source": [
    "for i in rating:\n",
    "    print(i)"
   ]
  },
  {
   "cell_type": "markdown",
   "id": "4edf8394",
   "metadata": {},
   "source": [
    "### Check the length of each column"
   ]
  },
  {
   "cell_type": "code",
   "execution_count": null,
   "id": "34ce0794",
   "metadata": {
    "scrolled": true
   },
   "outputs": [],
   "source": [
    "print(\"Products: \", len(price))\n",
    "print(\"Price: \", len(price))\n",
    "del rating[240:350]\n",
    "del rating[240:350]\n",
    "print(\"Ratings: \", len(rating))"
   ]
  },
  {
   "cell_type": "markdown",
   "id": "5c5e398b",
   "metadata": {},
   "source": [
    "### Defining a dictionary holding the columns"
   ]
  },
  {
   "cell_type": "code",
   "execution_count": null,
   "id": "8b11e86b",
   "metadata": {},
   "outputs": [],
   "source": [
    "data = {'Product Name':product_names, \n",
    "        'Price':price, \n",
    "        'Rating':rating\n",
    "}"
   ]
  },
  {
   "cell_type": "code",
   "execution_count": null,
   "id": "a6656265",
   "metadata": {},
   "outputs": [],
   "source": [
    "# Creating a DataFrame \n",
    "df = pd.DataFrame(data)"
   ]
  },
  {
   "cell_type": "markdown",
   "id": "383cb9d6",
   "metadata": {},
   "source": [
    "### Getting the first 5 rows of our Scraped Data"
   ]
  },
  {
   "cell_type": "code",
   "execution_count": null,
   "id": "02102604",
   "metadata": {},
   "outputs": [],
   "source": [
    "df.head()"
   ]
  },
  {
   "cell_type": "code",
   "execution_count": null,
   "id": "f6a4723d",
   "metadata": {
    "scrolled": true
   },
   "outputs": [],
   "source": [
    "df.shape"
   ]
  },
  {
   "cell_type": "markdown",
   "id": "408ab961",
   "metadata": {},
   "source": [
    "## Let's convert the dataframe to CSV and Export"
   ]
  },
  {
   "cell_type": "code",
   "execution_count": null,
   "id": "46c74be0",
   "metadata": {},
   "outputs": [],
   "source": [
    "df.to_csv('H:\\My Drive\\LEARNING\\Datasets\\laptops.csv', index=False)"
   ]
  }
 ],
 "metadata": {
  "kernelspec": {
   "display_name": "Python 3 (ipykernel)",
   "language": "python",
   "name": "python3"
  },
  "language_info": {
   "codemirror_mode": {
    "name": "ipython",
    "version": 3
   },
   "file_extension": ".py",
   "mimetype": "text/x-python",
   "name": "python",
   "nbconvert_exporter": "python",
   "pygments_lexer": "ipython3",
   "version": "3.9.12"
  }
 },
 "nbformat": 4,
 "nbformat_minor": 5
}
